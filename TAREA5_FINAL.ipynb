{
 "cells": [
  {
   "cell_type": "markdown",
   "id": "c61a2536-1075-4074-95df-ef12f7b92748",
   "metadata": {
    "id": "c61a2536-1075-4074-95df-ef12f7b92748"
   },
   "source": [
    "## UNAD"
   ]
  },
  {
   "cell_type": "markdown",
   "id": "4d13a583-ca1c-4dd5-be9b-f6455f92a80e",
   "metadata": {
    "id": "4d13a583-ca1c-4dd5-be9b-f6455f92a80e"
   },
   "source": [
    "## ANDERSON ANDREY QUITIAN PEREZ"
   ]
  },
  {
   "cell_type": "markdown",
   "id": "bd965e60-162f-491f-bf7b-13b42f620133",
   "metadata": {
    "id": "bd965e60-162f-491f-bf7b-13b42f620133"
   },
   "source": [
    "## PASO 5 REGRESION LOGISTICA"
   ]
  },
  {
   "cell_type": "markdown",
   "id": "61660f2f-5950-46c5-ad72-1c0daefefb55",
   "metadata": {
    "id": "61660f2f-5950-46c5-ad72-1c0daefefb55"
   },
   "source": [
    "## PASOS DE LA ACTIVIDAD"
   ]
  },
  {
   "cell_type": "code",
   "execution_count": 2,
   "id": "fbf16f6d-edf1-41d8-8cb1-cfea147b2f29",
   "metadata": {
    "id": "fbf16f6d-edf1-41d8-8cb1-cfea147b2f29"
   },
   "outputs": [],
   "source": [
    "#1. Realizar un análisis exploratorio de los datos para identificar relaciones entre variables, valores atípicos, tendencias, etc.\n",
    "#2 Preprocesar los datos limpiándolos, tratando valores faltantes y transformándolos según sea necesario.\n",
    "#3 Seleccionar las características más relevantes para entrenar el modelo utilizando selección de características.\n",
    "#4 Entrenar el modelo configurando los diferentes hiperparámetros.\n",
    "#5 Evaluar el desempeño del modelo con métricas como Coeficiente de Silhouette, Índice de Calinski-Harabasz, etc\n",
    "#6 Realizar las diferentes gráficas que permitan visualizar los resultados del modelo.\n",
    "#7 Interpretar, analizar y documentar los resultados obtenidos.\n",
    "#8 Crear una cuenta en GitHub y cargar los códigos de los modelos diseñados https://github.com/."
   ]
  },
  {
   "cell_type": "markdown",
   "id": "c2228168-2225-4c50-9f2e-dff69cb2a85b",
   "metadata": {
    "id": "c2228168-2225-4c50-9f2e-dff69cb2a85b"
   },
   "source": [
    "## 1. Realizar un análisis exploratorio de los datos para identificar relaciones entre variables, valores atípicos, tendencias, etc."
   ]
  },
  {
   "cell_type": "code",
   "execution_count": 5,
   "id": "6e03f204-476d-4efc-a12a-d97f15cc0f4b",
   "metadata": {
    "id": "6e03f204-476d-4efc-a12a-d97f15cc0f4b"
   },
   "outputs": [],
   "source": [
    "#Cargar las librerias necesarias\n",
    "\n",
    "import pandas as pd # Manejo y análisis de estructuras de datos\n",
    "import numpy as np # Cálculo numérico y el análisis de datos\n",
    "import seaborn as sns # Creación gráficos estadísticos\n",
    "import matplotlib.pyplot as plt # Creación de gráficos en dos dimensiones\n",
    "import pandas as pd\n",
    "\n",
    "# librerías de para implementar modelos de ciencia de datos\n",
    "from sklearn import metrics\n",
    "from sklearn.model_selection import train_test_split\n",
    "from sklearn.linear_model import LogisticRegression\n",
    "from sklearn.metrics import classification_report, confusion_matrix"
   ]
  },
  {
   "cell_type": "code",
   "execution_count": 27,
   "id": "3a0c1911-e014-47a5-b0d4-05534fba2f16",
   "metadata": {
    "id": "3a0c1911-e014-47a5-b0d4-05534fba2f16"
   },
   "outputs": [],
   "source": [
    "# lectura de datos en Python y lo cargamos en la variable Datos\n",
    "Datos = pd.read_csv('C:/UNAD_TAREA_5/Titanic-Dataset.csv')"
   ]
  },
  {
   "cell_type": "code",
   "execution_count": 29,
   "id": "030f526e-63f7-4e15-abb3-a1cd6f5cec62",
   "metadata": {
    "colab": {
     "base_uri": "https://localhost:8080/",
     "height": 728
    },
    "id": "030f526e-63f7-4e15-abb3-a1cd6f5cec62",
    "outputId": "8a913423-6310-40d1-acd6-a5d0fd810756"
   },
   "outputs": [
    {
     "data": {
      "text/html": [
       "<div>\n",
       "<style scoped>\n",
       "    .dataframe tbody tr th:only-of-type {\n",
       "        vertical-align: middle;\n",
       "    }\n",
       "\n",
       "    .dataframe tbody tr th {\n",
       "        vertical-align: top;\n",
       "    }\n",
       "\n",
       "    .dataframe thead th {\n",
       "        text-align: right;\n",
       "    }\n",
       "</style>\n",
       "<table border=\"1\" class=\"dataframe\">\n",
       "  <thead>\n",
       "    <tr style=\"text-align: right;\">\n",
       "      <th></th>\n",
       "      <th>PassengerId</th>\n",
       "      <th>Survived</th>\n",
       "      <th>Pclass</th>\n",
       "      <th>Name</th>\n",
       "      <th>Sex</th>\n",
       "      <th>Age</th>\n",
       "      <th>SibSp</th>\n",
       "      <th>Parch</th>\n",
       "      <th>Ticket</th>\n",
       "      <th>Fare</th>\n",
       "      <th>Cabin</th>\n",
       "      <th>Embarked</th>\n",
       "    </tr>\n",
       "  </thead>\n",
       "  <tbody>\n",
       "    <tr>\n",
       "      <th>0</th>\n",
       "      <td>1</td>\n",
       "      <td>0</td>\n",
       "      <td>3</td>\n",
       "      <td>Braund, Mr. Owen Harris</td>\n",
       "      <td>male</td>\n",
       "      <td>22.0</td>\n",
       "      <td>1</td>\n",
       "      <td>0</td>\n",
       "      <td>A/5 21171</td>\n",
       "      <td>7.2500</td>\n",
       "      <td>NaN</td>\n",
       "      <td>S</td>\n",
       "    </tr>\n",
       "    <tr>\n",
       "      <th>1</th>\n",
       "      <td>2</td>\n",
       "      <td>1</td>\n",
       "      <td>1</td>\n",
       "      <td>Cumings, Mrs. John Bradley (Florence Briggs Th...</td>\n",
       "      <td>female</td>\n",
       "      <td>38.0</td>\n",
       "      <td>1</td>\n",
       "      <td>0</td>\n",
       "      <td>PC 17599</td>\n",
       "      <td>71.2833</td>\n",
       "      <td>C85</td>\n",
       "      <td>C</td>\n",
       "    </tr>\n",
       "    <tr>\n",
       "      <th>2</th>\n",
       "      <td>3</td>\n",
       "      <td>1</td>\n",
       "      <td>3</td>\n",
       "      <td>Heikkinen, Miss. Laina</td>\n",
       "      <td>female</td>\n",
       "      <td>26.0</td>\n",
       "      <td>0</td>\n",
       "      <td>0</td>\n",
       "      <td>STON/O2. 3101282</td>\n",
       "      <td>7.9250</td>\n",
       "      <td>NaN</td>\n",
       "      <td>S</td>\n",
       "    </tr>\n",
       "    <tr>\n",
       "      <th>3</th>\n",
       "      <td>4</td>\n",
       "      <td>1</td>\n",
       "      <td>1</td>\n",
       "      <td>Futrelle, Mrs. Jacques Heath (Lily May Peel)</td>\n",
       "      <td>female</td>\n",
       "      <td>35.0</td>\n",
       "      <td>1</td>\n",
       "      <td>0</td>\n",
       "      <td>113803</td>\n",
       "      <td>53.1000</td>\n",
       "      <td>C123</td>\n",
       "      <td>S</td>\n",
       "    </tr>\n",
       "    <tr>\n",
       "      <th>4</th>\n",
       "      <td>5</td>\n",
       "      <td>0</td>\n",
       "      <td>3</td>\n",
       "      <td>Allen, Mr. William Henry</td>\n",
       "      <td>male</td>\n",
       "      <td>35.0</td>\n",
       "      <td>0</td>\n",
       "      <td>0</td>\n",
       "      <td>373450</td>\n",
       "      <td>8.0500</td>\n",
       "      <td>NaN</td>\n",
       "      <td>S</td>\n",
       "    </tr>\n",
       "    <tr>\n",
       "      <th>...</th>\n",
       "      <td>...</td>\n",
       "      <td>...</td>\n",
       "      <td>...</td>\n",
       "      <td>...</td>\n",
       "      <td>...</td>\n",
       "      <td>...</td>\n",
       "      <td>...</td>\n",
       "      <td>...</td>\n",
       "      <td>...</td>\n",
       "      <td>...</td>\n",
       "      <td>...</td>\n",
       "      <td>...</td>\n",
       "    </tr>\n",
       "    <tr>\n",
       "      <th>145</th>\n",
       "      <td>146</td>\n",
       "      <td>0</td>\n",
       "      <td>2</td>\n",
       "      <td>Nicholls, Mr. Joseph Charles</td>\n",
       "      <td>male</td>\n",
       "      <td>19.0</td>\n",
       "      <td>1</td>\n",
       "      <td>1</td>\n",
       "      <td>C.A. 33112</td>\n",
       "      <td>36.7500</td>\n",
       "      <td>NaN</td>\n",
       "      <td>S</td>\n",
       "    </tr>\n",
       "    <tr>\n",
       "      <th>146</th>\n",
       "      <td>147</td>\n",
       "      <td>1</td>\n",
       "      <td>3</td>\n",
       "      <td>Andersson, Mr. August Edvard (\"Wennerstrom\")</td>\n",
       "      <td>male</td>\n",
       "      <td>27.0</td>\n",
       "      <td>0</td>\n",
       "      <td>0</td>\n",
       "      <td>350043</td>\n",
       "      <td>7.7958</td>\n",
       "      <td>NaN</td>\n",
       "      <td>S</td>\n",
       "    </tr>\n",
       "    <tr>\n",
       "      <th>147</th>\n",
       "      <td>148</td>\n",
       "      <td>0</td>\n",
       "      <td>3</td>\n",
       "      <td>Ford, Miss. Robina Maggie \"Ruby\"</td>\n",
       "      <td>female</td>\n",
       "      <td>9.0</td>\n",
       "      <td>2</td>\n",
       "      <td>2</td>\n",
       "      <td>W./C. 6608</td>\n",
       "      <td>34.3750</td>\n",
       "      <td>NaN</td>\n",
       "      <td>S</td>\n",
       "    </tr>\n",
       "    <tr>\n",
       "      <th>148</th>\n",
       "      <td>149</td>\n",
       "      <td>0</td>\n",
       "      <td>2</td>\n",
       "      <td>Navratil, Mr. Michel (\"Louis M Hoffman\")</td>\n",
       "      <td>male</td>\n",
       "      <td>36.5</td>\n",
       "      <td>0</td>\n",
       "      <td>2</td>\n",
       "      <td>230080</td>\n",
       "      <td>26.0000</td>\n",
       "      <td>F2</td>\n",
       "      <td>S</td>\n",
       "    </tr>\n",
       "    <tr>\n",
       "      <th>149</th>\n",
       "      <td>150</td>\n",
       "      <td>0</td>\n",
       "      <td>2</td>\n",
       "      <td>Byles, Rev. Thomas Roussel Davids</td>\n",
       "      <td>male</td>\n",
       "      <td>42.0</td>\n",
       "      <td>0</td>\n",
       "      <td>0</td>\n",
       "      <td>244310</td>\n",
       "      <td>13.0000</td>\n",
       "      <td>NaN</td>\n",
       "      <td>S</td>\n",
       "    </tr>\n",
       "  </tbody>\n",
       "</table>\n",
       "<p>150 rows × 12 columns</p>\n",
       "</div>"
      ],
      "text/plain": [
       "     PassengerId  Survived  Pclass  \\\n",
       "0              1         0       3   \n",
       "1              2         1       1   \n",
       "2              3         1       3   \n",
       "3              4         1       1   \n",
       "4              5         0       3   \n",
       "..           ...       ...     ...   \n",
       "145          146         0       2   \n",
       "146          147         1       3   \n",
       "147          148         0       3   \n",
       "148          149         0       2   \n",
       "149          150         0       2   \n",
       "\n",
       "                                                  Name     Sex   Age  SibSp  \\\n",
       "0                              Braund, Mr. Owen Harris    male  22.0      1   \n",
       "1    Cumings, Mrs. John Bradley (Florence Briggs Th...  female  38.0      1   \n",
       "2                               Heikkinen, Miss. Laina  female  26.0      0   \n",
       "3         Futrelle, Mrs. Jacques Heath (Lily May Peel)  female  35.0      1   \n",
       "4                             Allen, Mr. William Henry    male  35.0      0   \n",
       "..                                                 ...     ...   ...    ...   \n",
       "145                       Nicholls, Mr. Joseph Charles    male  19.0      1   \n",
       "146       Andersson, Mr. August Edvard (\"Wennerstrom\")    male  27.0      0   \n",
       "147                   Ford, Miss. Robina Maggie \"Ruby\"  female   9.0      2   \n",
       "148           Navratil, Mr. Michel (\"Louis M Hoffman\")    male  36.5      0   \n",
       "149                  Byles, Rev. Thomas Roussel Davids    male  42.0      0   \n",
       "\n",
       "     Parch            Ticket     Fare Cabin Embarked  \n",
       "0        0         A/5 21171   7.2500   NaN        S  \n",
       "1        0          PC 17599  71.2833   C85        C  \n",
       "2        0  STON/O2. 3101282   7.9250   NaN        S  \n",
       "3        0            113803  53.1000  C123        S  \n",
       "4        0            373450   8.0500   NaN        S  \n",
       "..     ...               ...      ...   ...      ...  \n",
       "145      1        C.A. 33112  36.7500   NaN        S  \n",
       "146      0            350043   7.7958   NaN        S  \n",
       "147      2        W./C. 6608  34.3750   NaN        S  \n",
       "148      2            230080  26.0000    F2        S  \n",
       "149      0            244310  13.0000   NaN        S  \n",
       "\n",
       "[150 rows x 12 columns]"
      ]
     },
     "execution_count": 29,
     "metadata": {},
     "output_type": "execute_result"
    }
   ],
   "source": [
    "# Realizamos lectura de los Datos para el análisis exploratorio\n",
    "\n",
    "Datos.head(150)"
   ]
  },
  {
   "cell_type": "code",
   "execution_count": 31,
   "id": "00ce79fa-bf2b-4e1a-9bdd-859cd0de0af7",
   "metadata": {
    "colab": {
     "base_uri": "https://localhost:8080/",
     "height": 317
    },
    "id": "00ce79fa-bf2b-4e1a-9bdd-859cd0de0af7",
    "outputId": "3d75d023-1a22-42dd-9cee-64c4c373e7bc"
   },
   "outputs": [
    {
     "data": {
      "text/html": [
       "<div>\n",
       "<style scoped>\n",
       "    .dataframe tbody tr th:only-of-type {\n",
       "        vertical-align: middle;\n",
       "    }\n",
       "\n",
       "    .dataframe tbody tr th {\n",
       "        vertical-align: top;\n",
       "    }\n",
       "\n",
       "    .dataframe thead th {\n",
       "        text-align: right;\n",
       "    }\n",
       "</style>\n",
       "<table border=\"1\" class=\"dataframe\">\n",
       "  <thead>\n",
       "    <tr style=\"text-align: right;\">\n",
       "      <th></th>\n",
       "      <th>PassengerId</th>\n",
       "      <th>Survived</th>\n",
       "      <th>Pclass</th>\n",
       "      <th>Age</th>\n",
       "      <th>SibSp</th>\n",
       "      <th>Parch</th>\n",
       "      <th>Fare</th>\n",
       "    </tr>\n",
       "  </thead>\n",
       "  <tbody>\n",
       "    <tr>\n",
       "      <th>count</th>\n",
       "      <td>891.000000</td>\n",
       "      <td>891.000000</td>\n",
       "      <td>891.000000</td>\n",
       "      <td>714.000000</td>\n",
       "      <td>891.000000</td>\n",
       "      <td>891.000000</td>\n",
       "      <td>891.000000</td>\n",
       "    </tr>\n",
       "    <tr>\n",
       "      <th>mean</th>\n",
       "      <td>446.000000</td>\n",
       "      <td>0.383838</td>\n",
       "      <td>2.308642</td>\n",
       "      <td>29.699118</td>\n",
       "      <td>0.523008</td>\n",
       "      <td>0.381594</td>\n",
       "      <td>32.204208</td>\n",
       "    </tr>\n",
       "    <tr>\n",
       "      <th>std</th>\n",
       "      <td>257.353842</td>\n",
       "      <td>0.486592</td>\n",
       "      <td>0.836071</td>\n",
       "      <td>14.526497</td>\n",
       "      <td>1.102743</td>\n",
       "      <td>0.806057</td>\n",
       "      <td>49.693429</td>\n",
       "    </tr>\n",
       "    <tr>\n",
       "      <th>min</th>\n",
       "      <td>1.000000</td>\n",
       "      <td>0.000000</td>\n",
       "      <td>1.000000</td>\n",
       "      <td>0.420000</td>\n",
       "      <td>0.000000</td>\n",
       "      <td>0.000000</td>\n",
       "      <td>0.000000</td>\n",
       "    </tr>\n",
       "    <tr>\n",
       "      <th>25%</th>\n",
       "      <td>223.500000</td>\n",
       "      <td>0.000000</td>\n",
       "      <td>2.000000</td>\n",
       "      <td>20.125000</td>\n",
       "      <td>0.000000</td>\n",
       "      <td>0.000000</td>\n",
       "      <td>7.910400</td>\n",
       "    </tr>\n",
       "    <tr>\n",
       "      <th>50%</th>\n",
       "      <td>446.000000</td>\n",
       "      <td>0.000000</td>\n",
       "      <td>3.000000</td>\n",
       "      <td>28.000000</td>\n",
       "      <td>0.000000</td>\n",
       "      <td>0.000000</td>\n",
       "      <td>14.454200</td>\n",
       "    </tr>\n",
       "    <tr>\n",
       "      <th>75%</th>\n",
       "      <td>668.500000</td>\n",
       "      <td>1.000000</td>\n",
       "      <td>3.000000</td>\n",
       "      <td>38.000000</td>\n",
       "      <td>1.000000</td>\n",
       "      <td>0.000000</td>\n",
       "      <td>31.000000</td>\n",
       "    </tr>\n",
       "    <tr>\n",
       "      <th>max</th>\n",
       "      <td>891.000000</td>\n",
       "      <td>1.000000</td>\n",
       "      <td>3.000000</td>\n",
       "      <td>80.000000</td>\n",
       "      <td>8.000000</td>\n",
       "      <td>6.000000</td>\n",
       "      <td>512.329200</td>\n",
       "    </tr>\n",
       "  </tbody>\n",
       "</table>\n",
       "</div>"
      ],
      "text/plain": [
       "       PassengerId    Survived      Pclass         Age       SibSp  \\\n",
       "count   891.000000  891.000000  891.000000  714.000000  891.000000   \n",
       "mean    446.000000    0.383838    2.308642   29.699118    0.523008   \n",
       "std     257.353842    0.486592    0.836071   14.526497    1.102743   \n",
       "min       1.000000    0.000000    1.000000    0.420000    0.000000   \n",
       "25%     223.500000    0.000000    2.000000   20.125000    0.000000   \n",
       "50%     446.000000    0.000000    3.000000   28.000000    0.000000   \n",
       "75%     668.500000    1.000000    3.000000   38.000000    1.000000   \n",
       "max     891.000000    1.000000    3.000000   80.000000    8.000000   \n",
       "\n",
       "            Parch        Fare  \n",
       "count  891.000000  891.000000  \n",
       "mean     0.381594   32.204208  \n",
       "std      0.806057   49.693429  \n",
       "min      0.000000    0.000000  \n",
       "25%      0.000000    7.910400  \n",
       "50%      0.000000   14.454200  \n",
       "75%      0.000000   31.000000  \n",
       "max      6.000000  512.329200  "
      ]
     },
     "execution_count": 31,
     "metadata": {},
     "output_type": "execute_result"
    }
   ],
   "source": [
    "# Descripción de los datos\n",
    "Datos.describe()"
   ]
  },
  {
   "cell_type": "code",
   "execution_count": 33,
   "id": "70353fa7-f2f2-46e4-9b63-465a3fcc2ff4",
   "metadata": {
    "colab": {
     "base_uri": "https://localhost:8080/"
    },
    "id": "70353fa7-f2f2-46e4-9b63-465a3fcc2ff4",
    "outputId": "db54e11f-e431-4fa9-c3cf-28fa1c8a74b0"
   },
   "outputs": [
    {
     "name": "stdout",
     "output_type": "stream",
     "text": [
      "<class 'pandas.core.frame.DataFrame'>\n",
      "RangeIndex: 891 entries, 0 to 890\n",
      "Data columns (total 12 columns):\n",
      " #   Column       Non-Null Count  Dtype  \n",
      "---  ------       --------------  -----  \n",
      " 0   PassengerId  891 non-null    int64  \n",
      " 1   Survived     891 non-null    int64  \n",
      " 2   Pclass       891 non-null    int64  \n",
      " 3   Name         891 non-null    object \n",
      " 4   Sex          891 non-null    object \n",
      " 5   Age          714 non-null    float64\n",
      " 6   SibSp        891 non-null    int64  \n",
      " 7   Parch        891 non-null    int64  \n",
      " 8   Ticket       891 non-null    object \n",
      " 9   Fare         891 non-null    float64\n",
      " 10  Cabin        204 non-null    object \n",
      " 11  Embarked     889 non-null    object \n",
      "dtypes: float64(2), int64(5), object(5)\n",
      "memory usage: 83.7+ KB\n",
      "None\n"
     ]
    }
   ],
   "source": [
    "# Obtener informacióin sobrel tipo de datos y el total de valores en cada columna\n",
    "print(Datos.info())"
   ]
  },
  {
   "cell_type": "code",
   "execution_count": 35,
   "id": "315907ca-0f78-4887-895e-e6e9dcab9a7a",
   "metadata": {
    "colab": {
     "base_uri": "https://localhost:8080/",
     "height": 348
    },
    "id": "315907ca-0f78-4887-895e-e6e9dcab9a7a",
    "outputId": "315a37ca-407c-40ff-8df5-fd0da45c7642"
   },
   "outputs": [
    {
     "data": {
      "text/plain": [
       "Text(0.5, 1.0, 'Identificación de Datos Faltantes y Atípicos')"
      ]
     },
     "execution_count": 35,
     "metadata": {},
     "output_type": "execute_result"
    },
    {
     "data": {
      "image/png": "[encoded data removed]",
      "text/plain": [
       "<Figure size 600x300 with 1 Axes>"
      ]
     },
     "metadata": {},
     "output_type": "display_data"
    }
   ],
   "source": [
    "#Identificación de Datos Faltantes y Atípicos\n",
    "\n",
    "plt.figure(figsize=(6, 3))\n",
    "sns.boxplot(x=Datos['Age'])\n",
    "plt.title('Identificación de Datos Faltantes y Atípicos', fontsize=10 )"
   ]
  },
  {
   "cell_type": "code",
   "execution_count": 37,
   "id": "0eeea539-7400-4a25-9d55-214becb6e665",
   "metadata": {
    "colab": {
     "base_uri": "https://localhost:8080/",
     "height": 348
    },
    "id": "0eeea539-7400-4a25-9d55-214becb6e665",
    "outputId": "38677e6a-d6e0-4c01-a3a7-d0749d1c88b8"
   },
   "outputs": [
    {
     "data": {
      "text/plain": [
       "Text(0.5, 1.0, 'Identificación de Datos Faltantes y Atípicos')"
      ]
     },
     "execution_count": 37,
     "metadata": {},
     "output_type": "execute_result"
    },
    {
     "data": {
      "image/png": "[encoded data removed]",
      "text/plain": [
       "<Figure size 600x300 with 1 Axes>"
      ]
     },
     "metadata": {},
     "output_type": "display_data"
    }
   ],
   "source": [
    "#Identificación de Datos Faltantes y Atípicos\n",
    "\n",
    "plt.figure(figsize=(6, 3))\n",
    "sns.boxplot(x=Datos['Fare'])\n",
    "plt.title('Identificación de Datos Faltantes y Atípicos', fontsize=10 )"
   ]
  },
  {
   "cell_type": "code",
   "execution_count": 39,
   "id": "1d90f77c-cbfa-4dc0-9493-95cdb2e03434",
   "metadata": {
    "colab": {
     "base_uri": "https://localhost:8080/",
     "height": 348
    },
    "id": "1d90f77c-cbfa-4dc0-9493-95cdb2e03434",
    "outputId": "c6001000-e510-475a-b264-95baa8a36e30"
   },
   "outputs": [
    {
     "data": {
      "text/plain": [
       "Text(0.5, 1.0, 'Identificación de Datos Faltantes y Atípicos')"
      ]
     },
     "execution_count": 39,
     "metadata": {},
     "output_type": "execute_result"
    },
    {
     "data": {
      "image/png": "[encoded data removed]",
      "text/plain": [
       "<Figure size 600x300 with 1 Axes>"
      ]
     },
     "metadata": {},
     "output_type": "display_data"
    }
   ],
   "source": [
    "#Identificación de Datos Faltantes y Atípicos\n",
    "\n",
    "plt.figure(figsize=(6, 3))\n",
    "sns.boxplot(x=Datos['Pclass'])\n",
    "plt.title('Identificación de Datos Faltantes y Atípicos', fontsize=10 )"
   ]
  },
  {
   "cell_type": "code",
   "execution_count": 41,
   "id": "305dc2f1-d70e-4d90-8632-ff135e87f5d5",
   "metadata": {
    "colab": {
     "base_uri": "https://localhost:8080/",
     "height": 348
    },
    "id": "305dc2f1-d70e-4d90-8632-ff135e87f5d5",
    "outputId": "c02e7a83-4238-4964-8fa0-de69de7c6464"
   },
   "outputs": [
    {
     "data": {
      "text/plain": [
       "Text(0.5, 1.0, 'Identificación de Datos Faltantes y Atípicos')"
      ]
     },
     "execution_count": 41,
     "metadata": {},
     "output_type": "execute_result"
    },
    {
     "data": {
      "image/png": "[encoded data removed]",
      "text/plain": [
       "<Figure size 600x300 with 1 Axes>"
      ]
     },
     "metadata": {},
     "output_type": "display_data"
    }
   ],
   "source": [
    "#Identificación de Datos Faltantes y Atípicos\n",
    "\n",
    "plt.figure(figsize=(6, 3))\n",
    "sns.boxplot(x=Datos['SibSp'])\n",
    "plt.title('Identificación de Datos Faltantes y Atípicos', fontsize=10 )"
   ]
  },
  {
   "cell_type": "code",
   "execution_count": 43,
   "id": "5da2824b-e4ea-4939-a6b0-115429cf96fe",
   "metadata": {
    "colab": {
     "base_uri": "https://localhost:8080/",
     "height": 348
    },
    "id": "5da2824b-e4ea-4939-a6b0-115429cf96fe",
    "outputId": "478ca67a-40a4-477d-e298-1a5f56f06eda"
   },
   "outputs": [
    {
     "data": {
      "text/plain": [
       "Text(0.5, 1.0, 'Identificación de Datos Faltantes y Atípicos')"
      ]
     },
     "execution_count": 43,
     "metadata": {},
     "output_type": "execute_result"
    },
    {
     "data": {
      "image/png": "[encoded data removed]",
      "text/plain": [
       "<Figure size 600x300 with 1 Axes>"
      ]
     },
     "metadata": {},
     "output_type": "display_data"
    }
   ],
   "source": [
    "#Identificación de Datos Faltantes y Atípicos\n",
    "\n",
    "plt.figure(figsize=(6, 3))\n",
    "sns.boxplot(x=Datos['Embarked'])\n",
    "plt.title('Identificación de Datos Faltantes y Atípicos', fontsize=10 )"
   ]
  },
  {
   "cell_type": "code",
   "execution_count": 45,
   "id": "ba8d364b-1a3c-496f-ae32-ded732145fe8",
   "metadata": {
    "colab": {
     "base_uri": "https://localhost:8080/"
    },
    "id": "ba8d364b-1a3c-496f-ae32-ded732145fe8",
    "outputId": "e50b62e6-09f5-432d-92b1-9d4ded33dc0d"
   },
   "outputs": [
    {
     "name": "stdout",
     "output_type": "stream",
     "text": [
      "PassengerId      0\n",
      "Survived         0\n",
      "Pclass           0\n",
      "Name             0\n",
      "Sex              0\n",
      "Age            177\n",
      "SibSp            0\n",
      "Parch            0\n",
      "Ticket           0\n",
      "Fare             0\n",
      "Cabin          687\n",
      "Embarked         2\n",
      "dtype: int64\n"
     ]
    }
   ],
   "source": [
    "#Idéntificar columnas con datos faltantes\n",
    "print(Datos.isnull().sum())"
   ]
  },
  {
   "cell_type": "code",
   "execution_count": 47,
   "id": "bb40b63a-e708-47a0-ab04-dde38b2d08bb",
   "metadata": {
    "colab": {
     "base_uri": "https://localhost:8080/",
     "height": 347
    },
    "id": "bb40b63a-e708-47a0-ab04-dde38b2d08bb",
    "outputId": "1b481a67-46b8-4adf-8993-595c7dfa88c5"
   },
   "outputs": [
    {
     "data": {
      "text/plain": [
       "Text(0.5, 1.0, 'identificacion de datos')"
      ]
     },
     "execution_count": 47,
     "metadata": {},
     "output_type": "execute_result"
    },
    {
     "data": {
      "image/png": "[encoded data removed]",
      "text/plain": [
       "<Figure size 600x300 with 1 Axes>"
      ]
     },
     "metadata": {},
     "output_type": "display_data"
    }
   ],
   "source": [
    "# Idéntificar valores atípicos\n",
    "plt.figure(figsize=(6,3))\n",
    "sns.boxplot(x=Datos['Age'])\n",
    "plt.title('identificacion de datos', fontsize=10)"
   ]
  },
  {
   "cell_type": "code",
   "execution_count": 49,
   "id": "92bb2814-46b9-44ba-941a-6959cb77c19a",
   "metadata": {
    "colab": {
     "base_uri": "https://localhost:8080/"
    },
    "id": "92bb2814-46b9-44ba-941a-6959cb77c19a",
    "outputId": "6dd12603-c4de-4dbf-b747-f35cee046040"
   },
   "outputs": [
    {
     "name": "stdout",
     "output_type": "stream",
     "text": [
      "Cantidad de Registros con cero en clase social:  0\n",
      "Cantidad de Registros con cero en facturación:  15\n",
      "Cantidad de Registros con cero familiares:  608\n",
      "Cantidad de Registros con cero en pasajerod del enbarcadero:  0\n",
      "Cantidad de Registros con cero en ingreso de cabina:  0\n",
      "Cantidad de Registros con cero en la fila hombres o mujeres:  0\n",
      "Cantidad de Registros con cero en la fila sobrevivientes:  549\n"
     ]
    }
   ],
   "source": [
    "#Revisión de datos faltantes\n",
    "\n",
    "print(\"Cantidad de Registros con cero en clase social: \",Datos['Pclass'].isin([0]).sum())\n",
    "print(\"Cantidad de Registros con cero en facturación: \",Datos['Fare'].isin([0]).sum())\n",
    "print(\"Cantidad de Registros con cero familiares: \",Datos['SibSp'].isin([0]).sum())\n",
    "print(\"Cantidad de Registros con cero en pasajerod del enbarcadero: \",Datos['Embarked'].isin([0]).sum())\n",
    "print(\"Cantidad de Registros con cero en ingreso de cabina: \",Datos['Cabin'].isin([0]).sum())\n",
    "print(\"Cantidad de Registros con cero en la fila hombres o mujeres: \",Datos['Sex'].isin([0]).sum())\n",
    "print(\"Cantidad de Registros con cero en la fila sobrevivientes: \",Datos['Survived'].isin([0]).sum())"
   ]
  },
  {
   "cell_type": "code",
   "execution_count": 51,
   "id": "9acf85d1-8462-4133-aeea-d7de5d08f9ff",
   "metadata": {
    "id": "9acf85d1-8462-4133-aeea-d7de5d08f9ff"
   },
   "outputs": [],
   "source": [
    "Datos['Survived']=Datos['Survived'].replace(0,Datos['Survived'].mean())"
   ]
  },
  {
   "cell_type": "code",
   "execution_count": 125,
   "id": "76e86c27-00d4-4f50-899a-193091885aa7",
   "metadata": {
    "colab": {
     "base_uri": "https://localhost:8080/"
    },
    "id": "76e86c27-00d4-4f50-899a-193091885aa7",
    "outputId": "c004aaec-f6c0-48a9-fccd-35c159075456"
   },
   "outputs": [
    {
     "name": "stdout",
     "output_type": "stream",
     "text": [
      "Cantidad de Registros con cero en clase social:  0\n",
      "Cantidad de Registros con cero en facturación:  0\n",
      "Cantidad de Registros con cero familiares:  0\n",
      "Cantidad de Registros con cero en pasajerod del enbarcadero:  0\n",
      "Cantidad de Registros con cero en ingreso de cabina:  0\n",
      "Cantidad de Registros con cero en la fila hombres o mujeres:  0\n",
      "Cantidad de Registros con cero en la fila sobrevivientes:  0\n"
     ]
    }
   ],
   "source": [
    "#Revisión nuevamente de datos faltantes\n",
    "\n",
    "print(\"Cantidad de Registros con cero en clase social: \",Datos['Pclass'].isin([0]).sum())\n",
    "print(\"Cantidad de Registros con cero en facturación: \",Datos['Fare'].isin([0]).sum())\n",
    "print(\"Cantidad de Registros con cero familiares: \",Datos['SibSp'].isin([0]).sum())\n",
    "print(\"Cantidad de Registros con cero en pasajerod del enbarcadero: \",Datos['Embarked'].isin([0]).sum())\n",
    "print(\"Cantidad de Registros con cero en ingreso de cabina: \",Datos['Cabin'].isin([0]).sum())\n",
    "print(\"Cantidad de Registros con cero en la fila hombres o mujeres: \",Datos['Sex'].isin([0]).sum())\n",
    "print(\"Cantidad de Registros con cero en la fila sobrevivientes: \",Datos['Survived'].isin([0]).sum())"
   ]
  },
  {
   "cell_type": "code",
   "execution_count": 127,
   "id": "4ab938f8-bbed-419a-b9e1-8a89b3585817",
   "metadata": {
    "colab": {
     "base_uri": "https://localhost:8080/",
     "height": 348
    },
    "id": "4ab938f8-bbed-419a-b9e1-8a89b3585817",
    "outputId": "8cab750e-9a97-409c-e314-c9f2ae57923d"
   },
   "outputs": [
    {
     "data": {
      "text/plain": [
       "Text(0.5, 1.0, 'Identificación de Datos Atípicos')"
      ]
     },
     "execution_count": 127,
     "metadata": {},
     "output_type": "execute_result"
    },
    {
     "data": {
      "image/png": "[encoded data removed]",
      "text/plain": [
       "<Figure size 600x300 with 1 Axes>"
      ]
     },
     "metadata": {},
     "output_type": "display_data"
    }
   ],
   "source": [
    "#Identificación de Datos Atípicos\n",
    "\n",
    "plt.figure(figsize=(6, 3))\n",
    "sns.boxplot(x=Datos['Age'])\n",
    "plt.title('Identificación de Datos Atípicos', fontsize=10 )"
   ]
  },
  {
   "cell_type": "code",
   "execution_count": 129,
   "id": "4eebb25e-decc-486f-adec-c16ea06eb870",
   "metadata": {
    "colab": {
     "base_uri": "https://localhost:8080/"
    },
    "id": "4eebb25e-decc-486f-adec-c16ea06eb870",
    "outputId": "9a810b40-a81c-49cb-f0d3-3480e4dc86b1"
   },
   "outputs": [
    {
     "name": "stdout",
     "output_type": "stream",
     "text": [
      "El total de datos atípicos es 0\n"
     ]
    }
   ],
   "source": [
    "#Conteo de Datos Atípicos\n",
    "\n",
    "nivel_minimo=0\n",
    "nivel_maximo=100\n",
    "Total_Atipicos=((Datos['Age']<nivel_minimo)|(Datos['Age']>nivel_maximo)).sum()\n",
    "print(\"El total de datos atípicos es {}\".format(Total_Atipicos))"
   ]
  },
  {
   "cell_type": "code",
   "execution_count": 131,
   "id": "4a880184-5c1d-489b-900c-14f37247c2ba",
   "metadata": {
    "colab": {
     "base_uri": "https://localhost:8080/",
     "height": 348
    },
    "id": "4a880184-5c1d-489b-900c-14f37247c2ba",
    "outputId": "680f03c8-35ee-40e7-b31f-b913f60df169"
   },
   "outputs": [
    {
     "data": {
      "text/plain": [
       "Text(0.5, 1.0, 'Identificación de Datos Atípicos')"
      ]
     },
     "execution_count": 131,
     "metadata": {},
     "output_type": "execute_result"
    },
    {
     "data": {
      "image/png": "[encoded data removed]",
      "text/plain": [
       "<Figure size 600x300 with 1 Axes>"
      ]
     },
     "metadata": {},
     "output_type": "display_data"
    }
   ],
   "source": [
    "#Identificación de Datos Atípicos\n",
    "\n",
    "plt.figure(figsize=(6, 3))\n",
    "sns.boxplot(x=Datos['SibSp'])\n",
    "plt.title('Identificación de Datos Atípicos', fontsize=10 )"
   ]
  },
  {
   "cell_type": "code",
   "execution_count": 133,
   "id": "ecd1ad20-87a6-414d-aeb0-78c303dc71ac",
   "metadata": {
    "colab": {
     "base_uri": "https://localhost:8080/"
    },
    "id": "ecd1ad20-87a6-414d-aeb0-78c303dc71ac",
    "outputId": "bee221f3-46ee-4470-b690-17c8de7b4ccd"
   },
   "outputs": [
    {
     "name": "stdout",
     "output_type": "stream",
     "text": [
      "El total de datos atípicos es 193\n"
     ]
    }
   ],
   "source": [
    "#Conteo de Datos Atípicos\n",
    "\n",
    "nivel_minimo=0\n",
    "nivel_maximo=3\n",
    "Total_Atipicos=((Datos['Age']<nivel_minimo)|(Datos['Age']>nivel_maximo)).sum()\n",
    "print(\"El total de datos atípicos es {}\".format(Total_Atipicos))"
   ]
  },
  {
   "cell_type": "code",
   "execution_count": 135,
   "id": "f3276f0c-3973-48bf-a786-84887dfb152b",
   "metadata": {
    "id": "f3276f0c-3973-48bf-a786-84887dfb152b"
   },
   "outputs": [],
   "source": [
    "# Filtra Datos Atípicos\n",
    "\n",
    "Datos=Datos[(Datos['SibSp']<nivel_maximo)&(Datos['SibSp']>nivel_minimo)]"
   ]
  },
  {
   "cell_type": "code",
   "execution_count": 137,
   "id": "f87600de-7f94-4edf-b837-34928ffa2dee",
   "metadata": {
    "colab": {
     "base_uri": "https://localhost:8080/"
    },
    "id": "f87600de-7f94-4edf-b837-34928ffa2dee",
    "outputId": "26ab87f0-3271-492b-d0ec-486288e46e70"
   },
   "outputs": [
    {
     "name": "stdout",
     "output_type": "stream",
     "text": [
      "El total de datos atípicos es 0\n"
     ]
    }
   ],
   "source": [
    "# Validar si se removieron los datos atípicos\n",
    "\n",
    "Total_Atipicos=((Datos['SibSp']<nivel_minimo)|(Datos['SibSp']>nivel_maximo)).sum()\n",
    "print(\"El total de datos atípicos es {}\".format(Total_Atipicos))"
   ]
  },
  {
   "cell_type": "code",
   "execution_count": 139,
   "id": "c22d2101-6ce7-4513-a3bf-87a2cd018b8f",
   "metadata": {
    "colab": {
     "base_uri": "https://localhost:8080/",
     "height": 348
    },
    "id": "c22d2101-6ce7-4513-a3bf-87a2cd018b8f",
    "outputId": "21fb958d-09d8-48a5-a6e9-237dfa2bda81"
   },
   "outputs": [
    {
     "data": {
      "text/plain": [
       "Text(0.5, 1.0, 'Identificación de Datos Atípicos')"
      ]
     },
     "execution_count": 139,
     "metadata": {},
     "output_type": "execute_result"
    },
    {
     "data": {
      "image/png": "[encoded data removed]",
      "text/plain": [
       "<Figure size 600x300 with 1 Axes>"
      ]
     },
     "metadata": {},
     "output_type": "display_data"
    }
   ],
   "source": [
    "#Identificación de Datos Atípicos\n",
    "\n",
    "plt.figure(figsize=(6, 3))\n",
    "sns.boxplot(x=Datos['Fare'])\n",
    "plt.title('Identificación de Datos Atípicos', fontsize=10 )"
   ]
  },
  {
   "cell_type": "code",
   "execution_count": 141,
   "id": "3206a6db-71fd-4afd-853d-94fec3f455c0",
   "metadata": {
    "colab": {
     "base_uri": "https://localhost:8080/"
    },
    "id": "3206a6db-71fd-4afd-853d-94fec3f455c0",
    "outputId": "6fca7362-3871-4c45-85bc-a88c4d1d2ab6"
   },
   "outputs": [
    {
     "name": "stdout",
     "output_type": "stream",
     "text": [
      "El total de datos atípicos es 0\n"
     ]
    }
   ],
   "source": [
    "#Conteo de Datos Atípicos\n",
    "\n",
    "nivel_minimo=0\n",
    "nivel_maximo=300\n",
    "Total_Atipicos=((Datos['Fare']<nivel_minimo)|(Datos['Fare']>nivel_maximo)).sum()\n",
    "print(\"El total de datos atípicos es {}\".format(Total_Atipicos))"
   ]
  },
  {
   "cell_type": "code",
   "execution_count": 143,
   "id": "9e540bbd-4f1a-4ee7-b971-a69081189ee2",
   "metadata": {
    "id": "9e540bbd-4f1a-4ee7-b971-a69081189ee2"
   },
   "outputs": [],
   "source": [
    "# Filtra Datos Atípicos\n",
    "\n",
    "Datos=Datos[(Datos['Fare']<nivel_maximo)&(Datos['Fare']>nivel_minimo)]"
   ]
  },
  {
   "cell_type": "code",
   "execution_count": 145,
   "id": "c7515e26-245b-4784-9f5a-f0bfac81edd5",
   "metadata": {
    "colab": {
     "base_uri": "https://localhost:8080/"
    },
    "id": "c7515e26-245b-4784-9f5a-f0bfac81edd5",
    "outputId": "1028a656-a27f-44d2-96dc-c20d059830a3"
   },
   "outputs": [
    {
     "name": "stdout",
     "output_type": "stream",
     "text": [
      "El total de datos atípicos es 0\n"
     ]
    }
   ],
   "source": [
    "# Validar si se removieron los datos atípicos\n",
    "\n",
    "Total_Atipicos=((Datos['Fare']<nivel_minimo)|(Datos['Fare']>nivel_maximo)).sum()\n",
    "print(\"El total de datos atípicos es {}\".format(Total_Atipicos))"
   ]
  },
  {
   "cell_type": "code",
   "execution_count": 147,
   "id": "bb5887ff-8401-4cf0-8f17-0c4feb4d367b",
   "metadata": {
    "colab": {
     "base_uri": "https://localhost:8080/",
     "height": 348
    },
    "id": "bb5887ff-8401-4cf0-8f17-0c4feb4d367b",
    "outputId": "f1f3c79a-478d-45e9-b179-8e3864c3c625"
   },
   "outputs": [
    {
     "data": {
      "text/plain": [
       "Text(0.5, 1.0, 'Identificación de Datos Atípicos')"
      ]
     },
     "execution_count": 147,
     "metadata": {},
     "output_type": "execute_result"
    },
    {
     "data": {
      "image/png": "[encoded data removed]",
      "text/plain": [
       "<Figure size 600x300 with 1 Axes>"
      ]
     },
     "metadata": {},
     "output_type": "display_data"
    }
   ],
   "source": [
    "#Identificación de Datos Atípicos\n",
    "\n",
    "plt.figure(figsize=(6, 3))\n",
    "sns.boxplot(x=Datos['Cabin'])\n",
    "plt.title('Identificación de Datos Atípicos', fontsize=10 )"
   ]
  },
  {
   "cell_type": "code",
   "execution_count": 149,
   "id": "3366783d-04f5-4461-a841-1a1e3111127c",
   "metadata": {
    "colab": {
     "base_uri": "https://localhost:8080/"
    },
    "id": "3366783d-04f5-4461-a841-1a1e3111127c",
    "outputId": "7a0a0439-d9b1-4498-f82b-122ce0e19a36"
   },
   "outputs": [
    {
     "name": "stdout",
     "output_type": "stream",
     "text": [
      "<class 'pandas.core.frame.DataFrame'>\n",
      "Index: 237 entries, 0 to 888\n",
      "Data columns (total 12 columns):\n",
      " #   Column       Non-Null Count  Dtype  \n",
      "---  ------       --------------  -----  \n",
      " 0   PassengerId  237 non-null    int64  \n",
      " 1   Survived     237 non-null    float64\n",
      " 2   Pclass       237 non-null    int64  \n",
      " 3   Name         237 non-null    object \n",
      " 4   Sex          237 non-null    object \n",
      " 5   Age          208 non-null    float64\n",
      " 6   SibSp        237 non-null    int64  \n",
      " 7   Parch        237 non-null    int64  \n",
      " 8   Ticket       237 non-null    object \n",
      " 9   Fare         237 non-null    float64\n",
      " 10  Cabin        75 non-null     object \n",
      " 11  Embarked     237 non-null    object \n",
      "dtypes: float64(3), int64(4), object(5)\n",
      "memory usage: 24.1+ KB\n"
     ]
    }
   ],
   "source": [
    "#Revisión del tipo de datos y datos faltantes\n",
    "\n",
    "Datos.info()"
   ]
  },
  {
   "cell_type": "markdown",
   "id": "8fe7f677-7e81-4b2f-a54f-15d58d798530",
   "metadata": {
    "id": "8fe7f677-7e81-4b2f-a54f-15d58d798530"
   },
   "source": [
    "## 3.Seleccionar las características más relevantes para entrenar el modelo utilizando selección de características"
   ]
  },
  {
   "cell_type": "code",
   "execution_count": 152,
   "id": "2d000a1d-429b-43ac-9d4f-8ab640ed9c97",
   "metadata": {
    "colab": {
     "base_uri": "https://localhost:8080/",
     "height": 176
    },
    "id": "2d000a1d-429b-43ac-9d4f-8ab640ed9c97",
    "outputId": "f8ef1140-3c11-47fd-c93b-7d6d291ae248"
   },
   "outputs": [
    {
     "data": {
      "text/plain": [
       "Survived\n",
       "1.000000    125\n",
       "0.383838    112\n",
       "Name: count, dtype: int64"
      ]
     },
     "execution_count": 152,
     "metadata": {},
     "output_type": "execute_result"
    }
   ],
   "source": [
    "# Total de personas sobrevivientes\n",
    "\n",
    "Datos['Survived'].value_counts()"
   ]
  },
  {
   "cell_type": "code",
   "execution_count": 154,
   "id": "e2204ae4-fadd-4298-b269-ff4c17620aee",
   "metadata": {
    "colab": {
     "base_uri": "https://localhost:8080/",
     "height": 1000
    },
    "id": "e2204ae4-fadd-4298-b269-ff4c17620aee",
    "outputId": "d9b49a81-83a6-4080-956d-7ed929f874a7"
   },
   "outputs": [
    {
     "data": {
      "text/html": [
       "<div>\n",
       "<style scoped>\n",
       "    .dataframe tbody tr th:only-of-type {\n",
       "        vertical-align: middle;\n",
       "    }\n",
       "\n",
       "    .dataframe tbody tr th {\n",
       "        vertical-align: top;\n",
       "    }\n",
       "\n",
       "    .dataframe thead th {\n",
       "        text-align: right;\n",
       "    }\n",
       "</style>\n",
       "<table border=\"1\" class=\"dataframe\">\n",
       "  <thead>\n",
       "    <tr style=\"text-align: right;\">\n",
       "      <th></th>\n",
       "      <th>Survived</th>\n",
       "    </tr>\n",
       "  </thead>\n",
       "  <tbody>\n",
       "    <tr>\n",
       "      <th>0</th>\n",
       "      <td>0.383838</td>\n",
       "    </tr>\n",
       "    <tr>\n",
       "      <th>1</th>\n",
       "      <td>1.000000</td>\n",
       "    </tr>\n",
       "    <tr>\n",
       "      <th>3</th>\n",
       "      <td>1.000000</td>\n",
       "    </tr>\n",
       "    <tr>\n",
       "      <th>9</th>\n",
       "      <td>1.000000</td>\n",
       "    </tr>\n",
       "    <tr>\n",
       "      <th>10</th>\n",
       "      <td>1.000000</td>\n",
       "    </tr>\n",
       "    <tr>\n",
       "      <th>13</th>\n",
       "      <td>0.383838</td>\n",
       "    </tr>\n",
       "    <tr>\n",
       "      <th>18</th>\n",
       "      <td>0.383838</td>\n",
       "    </tr>\n",
       "    <tr>\n",
       "      <th>25</th>\n",
       "      <td>1.000000</td>\n",
       "    </tr>\n",
       "    <tr>\n",
       "      <th>31</th>\n",
       "      <td>1.000000</td>\n",
       "    </tr>\n",
       "    <tr>\n",
       "      <th>34</th>\n",
       "      <td>0.383838</td>\n",
       "    </tr>\n",
       "    <tr>\n",
       "      <th>35</th>\n",
       "      <td>0.383838</td>\n",
       "    </tr>\n",
       "    <tr>\n",
       "      <th>38</th>\n",
       "      <td>0.383838</td>\n",
       "    </tr>\n",
       "    <tr>\n",
       "      <th>39</th>\n",
       "      <td>1.000000</td>\n",
       "    </tr>\n",
       "    <tr>\n",
       "      <th>40</th>\n",
       "      <td>0.383838</td>\n",
       "    </tr>\n",
       "    <tr>\n",
       "      <th>41</th>\n",
       "      <td>0.383838</td>\n",
       "    </tr>\n",
       "    <tr>\n",
       "      <th>43</th>\n",
       "      <td>1.000000</td>\n",
       "    </tr>\n",
       "    <tr>\n",
       "      <th>46</th>\n",
       "      <td>0.383838</td>\n",
       "    </tr>\n",
       "    <tr>\n",
       "      <th>48</th>\n",
       "      <td>0.383838</td>\n",
       "    </tr>\n",
       "    <tr>\n",
       "      <th>49</th>\n",
       "      <td>0.383838</td>\n",
       "    </tr>\n",
       "    <tr>\n",
       "      <th>52</th>\n",
       "      <td>1.000000</td>\n",
       "    </tr>\n",
       "    <tr>\n",
       "      <th>53</th>\n",
       "      <td>1.000000</td>\n",
       "    </tr>\n",
       "    <tr>\n",
       "      <th>58</th>\n",
       "      <td>1.000000</td>\n",
       "    </tr>\n",
       "    <tr>\n",
       "      <th>62</th>\n",
       "      <td>0.383838</td>\n",
       "    </tr>\n",
       "    <tr>\n",
       "      <th>65</th>\n",
       "      <td>1.000000</td>\n",
       "    </tr>\n",
       "    <tr>\n",
       "      <th>69</th>\n",
       "      <td>0.383838</td>\n",
       "    </tr>\n",
       "    <tr>\n",
       "      <th>73</th>\n",
       "      <td>0.383838</td>\n",
       "    </tr>\n",
       "    <tr>\n",
       "      <th>86</th>\n",
       "      <td>0.383838</td>\n",
       "    </tr>\n",
       "    <tr>\n",
       "      <th>92</th>\n",
       "      <td>0.383838</td>\n",
       "    </tr>\n",
       "    <tr>\n",
       "      <th>93</th>\n",
       "      <td>0.383838</td>\n",
       "    </tr>\n",
       "    <tr>\n",
       "      <th>99</th>\n",
       "      <td>0.383838</td>\n",
       "    </tr>\n",
       "    <tr>\n",
       "      <th>104</th>\n",
       "      <td>0.383838</td>\n",
       "    </tr>\n",
       "    <tr>\n",
       "      <th>109</th>\n",
       "      <td>1.000000</td>\n",
       "    </tr>\n",
       "    <tr>\n",
       "      <th>111</th>\n",
       "      <td>0.383838</td>\n",
       "    </tr>\n",
       "    <tr>\n",
       "      <th>113</th>\n",
       "      <td>0.383838</td>\n",
       "    </tr>\n",
       "    <tr>\n",
       "      <th>117</th>\n",
       "      <td>0.383838</td>\n",
       "    </tr>\n",
       "    <tr>\n",
       "      <th>120</th>\n",
       "      <td>0.383838</td>\n",
       "    </tr>\n",
       "    <tr>\n",
       "      <th>122</th>\n",
       "      <td>0.383838</td>\n",
       "    </tr>\n",
       "    <tr>\n",
       "      <th>125</th>\n",
       "      <td>1.000000</td>\n",
       "    </tr>\n",
       "    <tr>\n",
       "      <th>128</th>\n",
       "      <td>1.000000</td>\n",
       "    </tr>\n",
       "    <tr>\n",
       "      <th>132</th>\n",
       "      <td>0.383838</td>\n",
       "    </tr>\n",
       "    <tr>\n",
       "      <th>133</th>\n",
       "      <td>1.000000</td>\n",
       "    </tr>\n",
       "    <tr>\n",
       "      <th>137</th>\n",
       "      <td>0.383838</td>\n",
       "    </tr>\n",
       "    <tr>\n",
       "      <th>142</th>\n",
       "      <td>1.000000</td>\n",
       "    </tr>\n",
       "    <tr>\n",
       "      <th>145</th>\n",
       "      <td>0.383838</td>\n",
       "    </tr>\n",
       "    <tr>\n",
       "      <th>147</th>\n",
       "      <td>0.383838</td>\n",
       "    </tr>\n",
       "    <tr>\n",
       "      <th>151</th>\n",
       "      <td>1.000000</td>\n",
       "    </tr>\n",
       "    <tr>\n",
       "      <th>167</th>\n",
       "      <td>0.383838</td>\n",
       "    </tr>\n",
       "    <tr>\n",
       "      <th>172</th>\n",
       "      <td>1.000000</td>\n",
       "    </tr>\n",
       "    <tr>\n",
       "      <th>175</th>\n",
       "      <td>0.383838</td>\n",
       "    </tr>\n",
       "    <tr>\n",
       "      <th>183</th>\n",
       "      <td>1.000000</td>\n",
       "    </tr>\n",
       "  </tbody>\n",
       "</table>\n",
       "</div>"
      ],
      "text/plain": [
       "     Survived\n",
       "0    0.383838\n",
       "1    1.000000\n",
       "3    1.000000\n",
       "9    1.000000\n",
       "10   1.000000\n",
       "13   0.383838\n",
       "18   0.383838\n",
       "25   1.000000\n",
       "31   1.000000\n",
       "34   0.383838\n",
       "35   0.383838\n",
       "38   0.383838\n",
       "39   1.000000\n",
       "40   0.383838\n",
       "41   0.383838\n",
       "43   1.000000\n",
       "46   0.383838\n",
       "48   0.383838\n",
       "49   0.383838\n",
       "52   1.000000\n",
       "53   1.000000\n",
       "58   1.000000\n",
       "62   0.383838\n",
       "65   1.000000\n",
       "69   0.383838\n",
       "73   0.383838\n",
       "86   0.383838\n",
       "92   0.383838\n",
       "93   0.383838\n",
       "99   0.383838\n",
       "104  0.383838\n",
       "109  1.000000\n",
       "111  0.383838\n",
       "113  0.383838\n",
       "117  0.383838\n",
       "120  0.383838\n",
       "122  0.383838\n",
       "125  1.000000\n",
       "128  1.000000\n",
       "132  0.383838\n",
       "133  1.000000\n",
       "137  0.383838\n",
       "142  1.000000\n",
       "145  0.383838\n",
       "147  0.383838\n",
       "151  1.000000\n",
       "167  0.383838\n",
       "172  1.000000\n",
       "175  0.383838\n",
       "183  1.000000"
      ]
     },
     "execution_count": 154,
     "metadata": {},
     "output_type": "execute_result"
    }
   ],
   "source": [
    "Datos[['Survived']].head(50)"
   ]
  },
  {
   "cell_type": "code",
   "execution_count": 156,
   "id": "Xg5JN2enKhE4",
   "metadata": {
    "colab": {
     "base_uri": "https://localhost:8080/",
     "height": 513
    },
    "id": "Xg5JN2enKhE4",
    "outputId": "f801479d-d4f0-4133-8cf6-fba93b5b601e"
   },
   "outputs": [
    {
     "data": {
      "text/html": [
       "<div>\n",
       "<style scoped>\n",
       "    .dataframe tbody tr th:only-of-type {\n",
       "        vertical-align: middle;\n",
       "    }\n",
       "\n",
       "    .dataframe tbody tr th {\n",
       "        vertical-align: top;\n",
       "    }\n",
       "\n",
       "    .dataframe thead th {\n",
       "        text-align: right;\n",
       "    }\n",
       "</style>\n",
       "<table border=\"1\" class=\"dataframe\">\n",
       "  <thead>\n",
       "    <tr style=\"text-align: right;\">\n",
       "      <th></th>\n",
       "      <th>PassengerId</th>\n",
       "      <th>Survived</th>\n",
       "      <th>Pclass</th>\n",
       "      <th>Name</th>\n",
       "      <th>Sex</th>\n",
       "      <th>Age</th>\n",
       "      <th>SibSp</th>\n",
       "      <th>Parch</th>\n",
       "      <th>Ticket</th>\n",
       "      <th>Fare</th>\n",
       "      <th>Cabin</th>\n",
       "      <th>Embarked</th>\n",
       "    </tr>\n",
       "  </thead>\n",
       "  <tbody>\n",
       "    <tr>\n",
       "      <th>0</th>\n",
       "      <td>1</td>\n",
       "      <td>0.383838</td>\n",
       "      <td>3</td>\n",
       "      <td>Braund, Mr. Owen Harris</td>\n",
       "      <td>male</td>\n",
       "      <td>22.0</td>\n",
       "      <td>1</td>\n",
       "      <td>0</td>\n",
       "      <td>A/5 21171</td>\n",
       "      <td>7.2500</td>\n",
       "      <td>NaN</td>\n",
       "      <td>S</td>\n",
       "    </tr>\n",
       "    <tr>\n",
       "      <th>1</th>\n",
       "      <td>2</td>\n",
       "      <td>1.000000</td>\n",
       "      <td>1</td>\n",
       "      <td>Cumings, Mrs. John Bradley (Florence Briggs Th...</td>\n",
       "      <td>female</td>\n",
       "      <td>38.0</td>\n",
       "      <td>1</td>\n",
       "      <td>0</td>\n",
       "      <td>PC 17599</td>\n",
       "      <td>71.2833</td>\n",
       "      <td>C85</td>\n",
       "      <td>C</td>\n",
       "    </tr>\n",
       "    <tr>\n",
       "      <th>3</th>\n",
       "      <td>4</td>\n",
       "      <td>1.000000</td>\n",
       "      <td>1</td>\n",
       "      <td>Futrelle, Mrs. Jacques Heath (Lily May Peel)</td>\n",
       "      <td>female</td>\n",
       "      <td>35.0</td>\n",
       "      <td>1</td>\n",
       "      <td>0</td>\n",
       "      <td>113803</td>\n",
       "      <td>53.1000</td>\n",
       "      <td>C123</td>\n",
       "      <td>S</td>\n",
       "    </tr>\n",
       "    <tr>\n",
       "      <th>9</th>\n",
       "      <td>10</td>\n",
       "      <td>1.000000</td>\n",
       "      <td>2</td>\n",
       "      <td>Nasser, Mrs. Nicholas (Adele Achem)</td>\n",
       "      <td>female</td>\n",
       "      <td>14.0</td>\n",
       "      <td>1</td>\n",
       "      <td>0</td>\n",
       "      <td>237736</td>\n",
       "      <td>30.0708</td>\n",
       "      <td>NaN</td>\n",
       "      <td>C</td>\n",
       "    </tr>\n",
       "    <tr>\n",
       "      <th>10</th>\n",
       "      <td>11</td>\n",
       "      <td>1.000000</td>\n",
       "      <td>3</td>\n",
       "      <td>Sandstrom, Miss. Marguerite Rut</td>\n",
       "      <td>female</td>\n",
       "      <td>4.0</td>\n",
       "      <td>1</td>\n",
       "      <td>1</td>\n",
       "      <td>PP 9549</td>\n",
       "      <td>16.7000</td>\n",
       "      <td>G6</td>\n",
       "      <td>S</td>\n",
       "    </tr>\n",
       "  </tbody>\n",
       "</table>\n",
       "</div>"
      ],
      "text/plain": [
       "    PassengerId  Survived  Pclass  \\\n",
       "0             1  0.383838       3   \n",
       "1             2  1.000000       1   \n",
       "3             4  1.000000       1   \n",
       "9            10  1.000000       2   \n",
       "10           11  1.000000       3   \n",
       "\n",
       "                                                 Name     Sex   Age  SibSp  \\\n",
       "0                             Braund, Mr. Owen Harris    male  22.0      1   \n",
       "1   Cumings, Mrs. John Bradley (Florence Briggs Th...  female  38.0      1   \n",
       "3        Futrelle, Mrs. Jacques Heath (Lily May Peel)  female  35.0      1   \n",
       "9                 Nasser, Mrs. Nicholas (Adele Achem)  female  14.0      1   \n",
       "10                    Sandstrom, Miss. Marguerite Rut  female   4.0      1   \n",
       "\n",
       "    Parch     Ticket     Fare Cabin Embarked  \n",
       "0       0  A/5 21171   7.2500   NaN        S  \n",
       "1       0   PC 17599  71.2833   C85        C  \n",
       "3       0     113803  53.1000  C123        S  \n",
       "9       0     237736  30.0708   NaN        C  \n",
       "10      1    PP 9549  16.7000    G6        S  "
      ]
     },
     "execution_count": 156,
     "metadata": {},
     "output_type": "execute_result"
    }
   ],
   "source": [
    "Datos.head()\n",
    "\n",
    "#nuevo_data = dataset[[\"Nombre\", \"Edad\", \"Ciudad\"]]"
   ]
  },
  {
   "cell_type": "code",
   "execution_count": 158,
   "id": "toMa0QEWKyWd",
   "metadata": {
    "colab": {
     "base_uri": "https://localhost:8080/"
    },
    "id": "toMa0QEWKyWd",
    "outputId": "27cf62d3-12f9-4588-b805-be295c67313a"
   },
   "outputs": [
    {
     "name": "stdout",
     "output_type": "stream",
     "text": [
      "<class 'pandas.core.frame.DataFrame'>\n",
      "Index: 237 entries, 0 to 888\n",
      "Data columns (total 12 columns):\n",
      " #   Column       Non-Null Count  Dtype  \n",
      "---  ------       --------------  -----  \n",
      " 0   PassengerId  237 non-null    int64  \n",
      " 1   Survived     237 non-null    float64\n",
      " 2   Pclass       237 non-null    int64  \n",
      " 3   Name         237 non-null    object \n",
      " 4   Sex          237 non-null    object \n",
      " 5   Age          208 non-null    float64\n",
      " 6   SibSp        237 non-null    int64  \n",
      " 7   Parch        237 non-null    int64  \n",
      " 8   Ticket       237 non-null    object \n",
      " 9   Fare         237 non-null    float64\n",
      " 10  Cabin        75 non-null     object \n",
      " 11  Embarked     237 non-null    object \n",
      "dtypes: float64(3), int64(4), object(5)\n",
      "memory usage: 24.1+ KB\n"
     ]
    }
   ],
   "source": [
    "Datos.info()"
   ]
  },
  {
   "cell_type": "markdown",
   "id": "716c94f1-0e2d-4d45-bda0-e31ad8bb360b",
   "metadata": {
    "id": "716c94f1-0e2d-4d45-bda0-e31ad8bb360b"
   },
   "source": [
    "## 4. Dividir el dataset en Train y Test para evaluar correctamente el modelo"
   ]
  },
  {
   "cell_type": "code",
   "execution_count": 161,
   "id": "6fbdf681-523b-43e9-8113-cace23fd8d67",
   "metadata": {
    "id": "6fbdf681-523b-43e9-8113-cace23fd8d67"
   },
   "outputs": [],
   "source": [
    "# Porcentaje de datos para entrenamiento (train) = 75% , y para prueba (test) = 25%\n",
    "\n",
    "# Se crean variables X y Y para almacenar la información del entrenamiento\n",
    "\n",
    "X = Datos.drop('Survived',axis=1) # Se cargan los datos de train sin los datos de la columna sobreviventes\n",
    "Y = Datos['Survived'] # Se cargan los datos de train con los datos de la la columna sobrevivientes\n",
    "\n",
    "#La función train_test_split crea una división de un conjunto de datos en dos bloques uno de entrenamiento y otro de prueba (train and test)\n",
    "X_train, X_test, Y_train, Y_test = train_test_split(X, Y, test_size=0.25, stratify=Y, random_state= 0)"
   ]
  },
  {
   "cell_type": "code",
   "execution_count": 163,
   "id": "39a56433-ef6a-4ca8-8c23-8f46ba43fe86",
   "metadata": {
    "colab": {
     "base_uri": "https://localhost:8080/"
    },
    "id": "39a56433-ef6a-4ca8-8c23-8f46ba43fe86",
    "outputId": "cd04a480-d2a8-4d80-ee21-a6bd95231eff"
   },
   "outputs": [
    {
     "name": "stdout",
     "output_type": "stream",
     "text": [
      "     PassengerId  Pclass                                               Name  \\\n",
      "860          861       3                            Hansen, Mr. Claus Peter   \n",
      "852          853       3                            Boulos, Miss. Nourelain   \n",
      "657          658       3                      Bourke, Mrs. John (Catherine)   \n",
      "436          437       3               Ford, Miss. Doolina Margaret \"Daisy\"   \n",
      "438          439       1                                  Fortune, Mr. Mark   \n",
      "..           ...     ...                                                ...   \n",
      "736          737       3            Ford, Mrs. Edward (Margaret Ann Watson)   \n",
      "206          207       3                         Backstrom, Mr. Karl Alfred   \n",
      "402          403       3                           Jussila, Miss. Mari Aina   \n",
      "25            26       3  Asplund, Mrs. Carl Oscar (Selma Augusta Emilia...   \n",
      "871          872       1   Beckwith, Mrs. Richard Leonard (Sallie Monypeny)   \n",
      "\n",
      "        Sex   Age  SibSp  Parch      Ticket      Fare        Cabin Embarked  \n",
      "860    male  41.0      2      0      350026   14.1083          NaN        S  \n",
      "852  female   9.0      1      1        2678   15.2458          NaN        C  \n",
      "657  female  32.0      1      1      364849   15.5000          NaN        Q  \n",
      "436  female  21.0      2      2  W./C. 6608   34.3750          NaN        S  \n",
      "438    male  64.0      1      4       19950  263.0000  C23 C25 C27        S  \n",
      "..      ...   ...    ...    ...         ...       ...          ...      ...  \n",
      "736  female  48.0      1      3  W./C. 6608   34.3750          NaN        S  \n",
      "206    male  32.0      1      0     3101278   15.8500          NaN        S  \n",
      "402  female  21.0      1      0        4137    9.8250          NaN        S  \n",
      "25   female  38.0      1      5      347077   31.3875          NaN        S  \n",
      "871  female  47.0      1      1       11751   52.5542          D35        S  \n",
      "\n",
      "[177 rows x 11 columns]\n"
     ]
    }
   ],
   "source": [
    "print (X_train)"
   ]
  },
  {
   "cell_type": "code",
   "execution_count": 165,
   "id": "5f34881b-289f-422c-8c6a-3c2989e3d0da",
   "metadata": {
    "colab": {
     "base_uri": "https://localhost:8080/"
    },
    "id": "5f34881b-289f-422c-8c6a-3c2989e3d0da",
    "outputId": "476455ba-d51f-421b-a1e0-05d04ddfdbf3"
   },
   "outputs": [
    {
     "name": "stdout",
     "output_type": "stream",
     "text": [
      "860    0.383838\n",
      "852    0.383838\n",
      "657    0.383838\n",
      "436    0.383838\n",
      "438    0.383838\n",
      "         ...   \n",
      "736    0.383838\n",
      "206    0.383838\n",
      "402    0.383838\n",
      "25     1.000000\n",
      "871    1.000000\n",
      "Name: Survived, Length: 177, dtype: float64\n"
     ]
    }
   ],
   "source": [
    "print (Y_train)"
   ]
  },
  {
   "cell_type": "markdown",
   "id": "4b71e629-2757-4ddc-ac58-d37d30430ec2",
   "metadata": {
    "id": "4b71e629-2757-4ddc-ac58-d37d30430ec2"
   },
   "source": [
    "## 5. Entrenar el modelo configurando los diferentes hiperparámetros"
   ]
  },
  {
   "cell_type": "code",
   "execution_count": 168,
   "id": "a9812850-55ea-4af4-802c-73a03c457240",
   "metadata": {
    "id": "a9812850-55ea-4af4-802c-73a03c457240"
   },
   "outputs": [],
   "source": [
    "import pandas as pd\n",
    "from sklearn.model_selection import train_test_split\n",
    "from sklearn.linear_model import LogisticRegression\n",
    "from sklearn.impute import SimpleImputer\n",
    "\n",
    "\n",
    "\n",
    "X_train_numeric = X_train.select_dtypes(include=np.number)\n",
    "X_test_numeric = X_test.select_dtypes(include=np.number)\n",
    "\n",
    "\n",
    "#Calcular los valores faltantes con la media\n",
    "imputer = SimpleImputer(strategy='mean')\n",
    "X_train_numeric = imputer.fit_transform(X_train_numeric)\n",
    "X_test_numeric = imputer.transform(X_test_numeric)\n",
    "\n",
    "# Convertir 'Sobrevivido' nuevamente a valores discretos (0 y 1) para regresión\n",
    "# logística\n",
    "Y_train = Y_train.astype(int)\n",
    "Y_test = Y_test.astype(int)\n",
    "\n",
    "\n",
    "# ajustar el modelo usando solo datos numéricos y un objetivo discreto\n",
    "modelo_regresion = LogisticRegression(solver=\"liblinear\")\n",
    "modelo_regresion.fit(X_train_numeric, Y_train)\n",
    "\n",
    "# Hace predeccion modelo regresion\n",
    "Prediccion = modelo_regresion.predict(X_test_numeric)"
   ]
  },
  {
   "cell_type": "code",
   "execution_count": 170,
   "id": "d1ad8a19-fcc5-4a50-b8a0-f2c2c4b3d4c3",
   "metadata": {
    "id": "d1ad8a19-fcc5-4a50-b8a0-f2c2c4b3d4c3"
   },
   "outputs": [
    {
     "name": "stdout",
     "output_type": "stream",
     "text": [
      "128    1\n",
      "69     0\n",
      "48     0\n",
      "58     1\n",
      "249    0\n",
      "186    1\n",
      "743    0\n",
      "490    0\n",
      "336    0\n",
      "215    1\n",
      "690    1\n",
      "352    0\n",
      "437    1\n",
      "820    1\n",
      "192    1\n",
      "546    1\n",
      "559    1\n",
      "476    0\n",
      "370    1\n",
      "544    0\n",
      "248    1\n",
      "660    1\n",
      "245    0\n",
      "424    0\n",
      "457    1\n",
      "440    1\n",
      "671    0\n",
      "809    1\n",
      "608    1\n",
      "9      1\n",
      "617    0\n",
      "700    1\n",
      "484    1\n",
      "1      1\n",
      "316    1\n",
      "253    0\n",
      "529    0\n",
      "137    0\n",
      "311    1\n",
      "489    1\n",
      "799    0\n",
      "595    0\n",
      "801    1\n",
      "665    0\n",
      "393    1\n",
      "117    0\n",
      "113    0\n",
      "746    0\n",
      "587    1\n",
      "741    0\n",
      "768    0\n",
      "347    1\n",
      "742    1\n",
      "835    1\n",
      "314    0\n",
      "854    0\n",
      "581    1\n",
      "334    1\n",
      "637    0\n",
      "451    0\n",
      "Name: Survived, dtype: int32\n"
     ]
    }
   ],
   "source": [
    "print (Y_test)"
   ]
  },
  {
   "cell_type": "code",
   "execution_count": 172,
   "id": "9476e063-c789-4052-bbc9-4a8c2e352ea7",
   "metadata": {},
   "outputs": [
    {
     "name": "stdout",
     "output_type": "stream",
     "text": [
      "[0 0 0 1 0 0 0 0 1 1 1 0 1 1 0 1 0 1 1 1 1 1 1 0 1 0 1 1 1 1 0 1 1 1 1 0 1\n",
      " 1 1 0 0 0 1 1 1 0 0 1 1 1 0 0 1 1 0 1 1 1 1 0]\n"
     ]
    }
   ],
   "source": [
    "print (Prediccion)"
   ]
  },
  {
   "cell_type": "markdown",
   "id": "0f1bed29-f7dc-42f6-a200-3c09d550e9a3",
   "metadata": {},
   "source": [
    "## 6. Evaluar el desempeño del modelo en el conjunto de Test con métricas como precisión, recall, F1-score, etc"
   ]
  },
  {
   "cell_type": "code",
   "execution_count": 175,
   "id": "0575a8f6-7050-4cae-a2cd-a5ff6fd950c9",
   "metadata": {},
   "outputs": [
    {
     "name": "stdout",
     "output_type": "stream",
     "text": [
      "              precision    recall  f1-score   support\n",
      "\n",
      "           0       0.70      0.57      0.63        28\n",
      "           1       0.68      0.78      0.72        32\n",
      "\n",
      "    accuracy                           0.68        60\n",
      "   macro avg       0.69      0.68      0.68        60\n",
      "weighted avg       0.68      0.68      0.68        60\n",
      "\n"
     ]
    }
   ],
   "source": [
    "# Desempeño del modelo de regresión\n",
    "\n",
    "print(classification_report(Y_test,Prediccion))"
   ]
  },
  {
   "cell_type": "markdown",
   "id": "4b8bcc36-1213-4438-a6d7-7b272c0ae959",
   "metadata": {},
   "source": [
    "## 7. Realizar las diferentes gráficas que permitan visualizar los resultados del modelo"
   ]
  },
  {
   "cell_type": "code",
   "execution_count": 178,
   "id": "56bdebc6-46e5-4210-a790-342c4ef6831d",
   "metadata": {},
   "outputs": [
    {
     "data": {
      "text/plain": [
       "<sklearn.metrics._plot.confusion_matrix.ConfusionMatrixDisplay at 0x2c94398ff20>"
      ]
     },
     "execution_count": 178,
     "metadata": {},
     "output_type": "execute_result"
    },
    {
     "data": {
      "image/png": "[encoded data removed]",
      "text/plain": [
       "<Figure size 640x480 with 2 Axes>"
      ]
     },
     "metadata": {},
     "output_type": "display_data"
    }
   ],
   "source": [
    "#Matrix de Confusión del modelo\n",
    "\n",
    "cm=confusion_matrix(Y_test,Prediccion)\n",
    "disp=metrics.ConfusionMatrixDisplay(confusion_matrix=cm)\n",
    "disp.plot()"
   ]
  },
  {
   "cell_type": "code",
   "execution_count": 180,
   "id": "54945d59-869f-4676-b853-212df183434c",
   "metadata": {},
   "outputs": [
    {
     "data": {
      "image/png": "[encoded data removed]",
      "text/plain": [
       "<Figure size 640x480 with 1 Axes>"
      ]
     },
     "metadata": {},
     "output_type": "display_data"
    }
   ],
   "source": [
    "# Curva de precisón del modelo\n",
    "\n",
    "from sklearn.metrics import RocCurveDisplay\n",
    "RocCurveDisplay.from_predictions(Y_test, Prediccion)\n",
    "plt.show()"
   ]
  },
  {
   "cell_type": "markdown",
   "id": "171474c9-2f17-4699-90d4-44947231f637",
   "metadata": {},
   "source": [
    "\n",
    "## 8. Interpretar, analizar y documentar los resultados obtenidos."
   ]
  },
  {
   "cell_type": "code",
   "execution_count": null,
   "id": "b970e3f8-abde-4a9c-b9ed-ea4d3c016a77",
   "metadata": {},
   "outputs": [],
   "source": [
    "# Explicación del modelo en word."
   ]
  },
  {
   "cell_type": "markdown",
   "id": "333ff357-41bc-4c60-b3ed-19278f838e7a",
   "metadata": {},
   "source": [
    "## 9. Crear una cuenta en GitHub y cargar el código del modelo diseñado https://github.com/."
   ]
  }
 ],
 "metadata": {
  "colab": {
   "provenance": []
  },
  "kernelspec": {
   "display_name": "Python 3 (ipykernel)",
   "language": "python",
   "name": "python3"
  },
  "language_info": {
   "codemirror_mode": {
    "name": "ipython",
    "version": 3
   },
   "file_extension": ".py",
   "mimetype": "text/x-python",
   "name": "python",
   "nbconvert_exporter": "python",
   "pygments_lexer": "ipython3",
   "version": "3.12.4"
  }
 },
 "nbformat": 4,
 "nbformat_minor": 5
}
